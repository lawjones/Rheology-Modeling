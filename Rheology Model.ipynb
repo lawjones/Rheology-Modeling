{
 "cells": [
  {
   "cell_type": "code",
   "execution_count": 49,
   "metadata": {},
   "outputs": [
    {
     "name": "stdout",
     "output_type": "stream",
     "text": [
      "Collecting matplotlib\n",
      "  Downloading matplotlib-3.9.2-cp39-cp39-win_amd64.whl (7.8 MB)\n",
      "Requirement already satisfied: python-dateutil>=2.7 in c:\\users\\lawrence jones\\appdata\\roaming\\python\\python39\\site-packages (from matplotlib) (2.9.0.post0)\n",
      "Collecting kiwisolver>=1.3.1\n",
      "  Downloading kiwisolver-1.4.7-cp39-cp39-win_amd64.whl (55 kB)\n",
      "Collecting cycler>=0.10\n",
      "  Downloading cycler-0.12.1-py3-none-any.whl (8.3 kB)\n",
      "Collecting importlib-resources>=3.2.0\n",
      "  Downloading importlib_resources-6.4.5-py3-none-any.whl (36 kB)\n",
      "Requirement already satisfied: numpy>=1.23 in c:\\users\\lawrence jones\\appdata\\local\\programs\\python\\python39\\lib\\site-packages (from matplotlib) (2.0.2)\n",
      "Requirement already satisfied: packaging>=20.0 in c:\\users\\lawrence jones\\appdata\\roaming\\python\\python39\\site-packages (from matplotlib) (24.1)\n",
      "Collecting pyparsing>=2.3.1\n",
      "  Downloading pyparsing-3.1.4-py3-none-any.whl (104 kB)\n",
      "Collecting contourpy>=1.0.1\n",
      "  Downloading contourpy-1.3.0-cp39-cp39-win_amd64.whl (211 kB)\n",
      "Collecting fonttools>=4.22.0\n",
      "  Downloading fonttools-4.54.1-cp39-cp39-win_amd64.whl (2.2 MB)\n",
      "Collecting pillow>=8\n",
      "  Downloading pillow-10.4.0-cp39-cp39-win_amd64.whl (2.6 MB)\n",
      "Requirement already satisfied: zipp>=3.1.0 in c:\\users\\lawrence jones\\appdata\\roaming\\python\\python39\\site-packages (from importlib-resources>=3.2.0->matplotlib) (3.20.2)\n",
      "Requirement already satisfied: six>=1.5 in c:\\users\\lawrence jones\\appdata\\roaming\\python\\python39\\site-packages (from python-dateutil>=2.7->matplotlib) (1.16.0)\n",
      "Installing collected packages: pyparsing, pillow, kiwisolver, importlib-resources, fonttools, cycler, contourpy, matplotlib\n",
      "Successfully installed contourpy-1.3.0 cycler-0.12.1 fonttools-4.54.1 importlib-resources-6.4.5 kiwisolver-1.4.7 matplotlib-3.9.2 pillow-10.4.0 pyparsing-3.1.4\n",
      "Note: you may need to restart the kernel to use updated packages.\n"
     ]
    },
    {
     "name": "stderr",
     "output_type": "stream",
     "text": [
      "  WARNING: The scripts fonttools.exe, pyftmerge.exe, pyftsubset.exe and ttx.exe are installed in 'c:\\Users\\Lawrence Jones\\AppData\\Local\\Programs\\Python\\Python39\\Scripts' which is not on PATH.\n",
      "  Consider adding this directory to PATH or, if you prefer to suppress this warning, use --no-warn-script-location.\n",
      "WARNING: You are using pip version 21.1.1; however, version 24.2 is available.\n",
      "You should consider upgrading via the 'c:\\Users\\Lawrence Jones\\AppData\\Local\\Programs\\Python\\Python39\\python.exe -m pip install --upgrade pip' command.\n"
     ]
    }
   ],
   "source": [
    "#%pip install pandas\n",
    "%pip install matplotlib"
   ]
  },
  {
   "cell_type": "code",
   "execution_count": 8,
   "metadata": {},
   "outputs": [],
   "source": [
    "import numpy as np\n",
    "import pandas as pd\n",
    "import time"
   ]
  },
  {
   "cell_type": "code",
   "execution_count": 9,
   "metadata": {},
   "outputs": [],
   "source": [
    "mu = float\n",
    "sr = float\n"
   ]
  },
  {
   "cell_type": "markdown",
   "metadata": {},
   "source": [
    "mu = vicosty , sr = shear rate"
   ]
  },
  {
   "cell_type": "markdown",
   "metadata": {},
   "source": [
    "### Newtonian"
   ]
  },
  {
   "cell_type": "code",
   "execution_count": 10,
   "metadata": {},
   "outputs": [],
   "source": [
    "c = float(0.2)\n",
    "def newtonian (sr,c):\n",
    "    mu = c\n",
    "    return mu"
   ]
  },
  {
   "cell_type": "markdown",
   "metadata": {},
   "source": [
    "### Carreau Model"
   ]
  },
  {
   "cell_type": "code",
   "execution_count": 11,
   "metadata": {},
   "outputs": [],
   "source": [
    "\n",
    "def carreau (mu0, mu_inf, time_const, P, n, sr):\n",
    "    mu = mu_inf + (mu0 - mu_inf)*(1+(time_const * sr)**P)**((n-1)/P)\n",
    "    return mu"
   ]
  },
  {
   "cell_type": "markdown",
   "metadata": {},
   "source": [
    "### Casson model"
   ]
  },
  {
   "cell_type": "code",
   "execution_count": 12,
   "metadata": {},
   "outputs": [],
   "source": [
    "#sqrt_tau_y = np.sqrt(tau_y)\n",
    "#sqrt_muC = np.sqrt(muC)\n",
    "def casson (sqrt_muC,sqrt_tau_y, sr):\n",
    "    Sqrt_Tau = sqrt_muC*np.sqrt(sr)+ sqrt_Tau_y\n",
    "    if True:\n",
    "        pass"
   ]
  },
  {
   "cell_type": "markdown",
   "metadata": {},
   "source": [
    "### Generalized Power-Law "
   ]
  },
  {
   "cell_type": "code",
   "execution_count": 56,
   "metadata": {},
   "outputs": [],
   "source": [
    "\n",
    "def gen_power(mu_inf, n_inf, delta_mu, delta_n, a,b,c,d, sr):\n",
    "    k = mu_inf + delta_mu*np.exp(-(1+sr/a)*np.exp(-b/sr))\n",
    "    n = n_inf-delta_n*np.exp(-(1+sr/c)*np.exp(-d/sr))\n",
    "    mu=k*((sr)**(n-1))\n",
    "    return mu"
   ]
  },
  {
   "cell_type": "markdown",
   "metadata": {},
   "source": [
    "### Power-law model"
   ]
  },
  {
   "cell_type": "code",
   "execution_count": 14,
   "metadata": {},
   "outputs": [],
   "source": [
    "def power_law(k, n, sr):\n",
    "    mu=k*((sr)**(n-1))\n",
    "    return mu"
   ]
  },
  {
   "cell_type": "markdown",
   "metadata": {},
   "source": [
    "### Cross"
   ]
  },
  {
   "cell_type": "code",
   "execution_count": 15,
   "metadata": {},
   "outputs": [],
   "source": [
    "def cross(mu0, mu_inf, time_const, n, sr):\n",
    "    mu = mu_inf + (mu0-mu_inf)/(1+(time_const*sr)**n)\n",
    "    return mu"
   ]
  },
  {
   "cell_type": "markdown",
   "metadata": {},
   "source": [
    "### WS model"
   ]
  },
  {
   "cell_type": "code",
   "execution_count": 33,
   "metadata": {},
   "outputs": [],
   "source": [
    "def ws (C1, C2, C3, C4, H, TPMA,sr):\n",
    "    mu = C1*np.exp(C2*H)*np.exp(C4*(TPMA/H**2))*(sr)**(-C3*H)\n",
    "    return mu"
   ]
  },
  {
   "cell_type": "markdown",
   "metadata": {},
   "source": [
    "### HB model"
   ]
  },
  {
   "cell_type": "code",
   "execution_count": 35,
   "metadata": {},
   "outputs": [],
   "source": [
    "def HB (k, n, tau_y, sr):\n",
    "    mu = k*(sr)**(n-1) + (tau_y/sr)\n",
    "    return mu"
   ]
  },
  {
   "cell_type": "markdown",
   "metadata": {},
   "source": [
    "### Quemada Model "
   ]
  },
  {
   "cell_type": "code",
   "execution_count": 18,
   "metadata": {},
   "outputs": [],
   "source": [
    "\n",
    "\n",
    "def Quemada (sqrt_muC, sqrt_time_const, sqrt_tau_y, sr):\n",
    "    mu = (sqrt_muC + (sqrt_tau_y)/(sqrt_time_const + np.sqrt(sr)))**2\n",
    "    return mu"
   ]
  },
  {
   "cell_type": "markdown",
   "metadata": {},
   "source": [
    "### KL"
   ]
  },
  {
   "cell_type": "code",
   "execution_count": 38,
   "metadata": {},
   "outputs": [],
   "source": [
    "def KL (muC, tau_y, a1, a2, sr):\n",
    "    mu = (1/sr)*(tau_y + muC*(a2*np.sqrt(sr)+a1*sr))\n",
    "    return mu"
   ]
  },
  {
   "cell_type": "markdown",
   "metadata": {},
   "source": [
    "## Timer Code"
   ]
  },
  {
   "cell_type": "markdown",
   "metadata": {},
   "source": [
    "### Define SR"
   ]
  },
  {
   "cell_type": "code",
   "execution_count": 57,
   "metadata": {},
   "outputs": [],
   "source": [
    "sr = np.logspace(\n",
    "    -2, \n",
    "    3, \n",
    "    num=50000, \n",
    "    endpoint=True, \n",
    "    base=10.0, \n",
    "    dtype=None, \n",
    "    axis=0\n",
    ")\n",
    "sr = pd.Series(sr)\n",
    "rheo_models = pd.DataFrame\n"
   ]
  },
  {
   "cell_type": "markdown",
   "metadata": {},
   "source": [
    "### Define Varaibles with Refs"
   ]
  },
  {
   "cell_type": "code",
   "execution_count": 58,
   "metadata": {},
   "outputs": [],
   "source": [
    "# Power Law [71]\n",
    "n, k = 0.7755, 0.01467\n",
    "# Carreau [49]\n",
    "mu0, mu_inf, time_const, P, n = 0.056, 0.00345, 3.313, 1, 0.3568\n",
    "# Casson [45]\n",
    "sqrt_muC, sqrt_tau_y = np.sqrt(0.002982), np.sqrt(0.02876)\n",
    "#gen power [68]\n",
    "gen_mu_inf, n_inf, delta_mu, delta_n, a, b, c, d = 0.0035, 1, 0.25, 0.45, 50, 3, 50, 4\n",
    "#Cross [69]\n",
    "cross_mu0, cross_mu_inf, cross_time_const, cross_n = 0.056, 0.00345, 1.007, 1.028\n",
    "#Ws [52]\n",
    "C1, C2, C3, C4, H, TPMA = 0.00797, 0.0608, 0.00499, 14.585, 40, 25.9\n",
    "#Hb []\n",
    "hb_k, hb_n, hb_tau_y = 0.0089721, 0.8601, 0.0175\n",
    "#Quemade [68]\n",
    "qu_sqrt_muC, qu_sqrt_time_const, qu_sqrt_tau_y = np.sqrt(0.002982), np.sqrt(4.020), np.sqrt(0.02876)\n",
    "#KL\n",
    "KL_muC, KL_tau_y, a1, a2 = 0.0035, 0.005, 1, 1.19523\n"
   ]
  },
  {
   "cell_type": "code",
   "execution_count": 59,
   "metadata": {},
   "outputs": [
    {
     "name": "stdout",
     "output_type": "stream",
     "text": [
      "\n",
      "Time taken to apply power_law: 0.19805431365966797 seconds\n",
      "\n",
      "Time taken to apply carreau: 0.06448245048522949 seconds\n",
      "\n",
      "Time taken to apply gen_power: 0.5033955574035645 seconds\n",
      "\n",
      "Time taken to apply cross: 0.09150195121765137 seconds\n",
      "\n",
      "Time taken to apply ws: 0.38623762130737305 seconds\n",
      "\n",
      "Time taken to apply HB: 0.09091353416442871 seconds\n",
      "\n",
      "Time taken to apply Quemada: 0.3185884952545166 seconds\n",
      "\n",
      "Time taken to apply KL: 0.20466065406799316 seconds\n"
     ]
    }
   ],
   "source": [
    "\n",
    "\n",
    "# Modified timer to handle different arguments for each function\n",
    "def timer(functions_with_args, run_name):\n",
    "    results = pd.DataFrame({'sr': sr}) \n",
    "\n",
    "    # Initialize an empty DataFrame for timings\n",
    "    timings = pd.DataFrame(index=[run_name])\n",
    "    \n",
    "    for func, args_kwargs in functions_with_args.items():\n",
    "        # Extract args and kwargs from the dictionary\n",
    "        args = args_kwargs.get('args', [])\n",
    "        kwargs = args_kwargs.get('kwargs', {})\n",
    "        \n",
    "        # Timing the process for each function\n",
    "        start_time = time.time()\n",
    "        mu = sr.apply(func, args=args, **kwargs)\n",
    "        end_time = time.time()\n",
    "\n",
    "        # Time taken for the function\n",
    "        time_taken = end_time - start_time\n",
    "\n",
    "        print(f\"\\nTime taken to apply {func.__name__}: {time_taken} seconds\")\n",
    "        \n",
    "        # Add the time taken to the timings DataFrame\n",
    "        timings[func.__name__] = [time_taken]\n",
    "\n",
    "        # Store the result of the function in the dictionary using function name\n",
    "        results[func.__name__] = mu\n",
    "\n",
    "    return results, timings\n",
    "\n",
    "\n",
    "\n",
    "\n",
    "# Different arguments for each model\n",
    "functions_with_args = {\n",
    "    power_law: {'args': [k, n]},\n",
    "    # newtonian: {'args': [cnewt]},\n",
    "    carreau: {'args': [mu0, mu_inf, time_const, P, n]},\n",
    "    # casson: {'args': [sqrt_muC, sqrt_tau_y]},\n",
    "    gen_power: {'args': [gen_mu_inf, n_inf, delta_mu, delta_n, a, b, c, d]},\n",
    "    cross: {'args': [cross_mu0, cross_mu_inf, cross_time_const, cross_n]},\n",
    "    ws: {'args': [C1, C2, C3, C4, H, TPMA]},\n",
    "    HB: {'args': [hb_k, hb_n, hb_tau_y]},\n",
    "    Quemada: {'args': [qu_sqrt_muC, qu_sqrt_time_const, qu_sqrt_tau_y]},\n",
    "    KL: {'args': [KL_muC, KL_tau_y, a1, a2]}\n",
    "}\n",
    "\n",
    "# Apply the timer to all functions\n",
    "rheo_models, timings = timer(functions_with_args, 'run1')\n",
    "\n",
    "\n"
   ]
  },
  {
   "cell_type": "code",
   "execution_count": 60,
   "metadata": {},
   "outputs": [
    {
     "data": {
      "image/png": "[encoded data removed]",
      "text/plain": [
       "<Figure size 640x480 with 1 Axes>"
      ]
     },
     "metadata": {},
     "output_type": "display_data"
    }
   ],
   "source": [
    "import matplotlib.pyplot as plt\n",
    "\n",
    "ax = rheo_models.plot(x='sr', y=rheo_models.columns[1:], kind='line', loglog=True)\n",
    "ax.set_xlabel(\"X-axis\")\n",
    "ax.set_ylabel(\"Y-axis\")\n",
    "plt.title(\"Plot of Strain Rate columns against Rheological Models\")\n",
    "plt.show()"
   ]
  }
 ],
 "metadata": {
  "kernelspec": {
   "display_name": "Python 3",
   "language": "python",
   "name": "python3"
  },
  "language_info": {
   "codemirror_mode": {
    "name": "ipython",
    "version": 3
   },
   "file_extension": ".py",
   "mimetype": "text/x-python",
   "name": "python",
   "nbconvert_exporter": "python",
   "pygments_lexer": "ipython3",
   "version": "3.9.5"
  }
 },
 "nbformat": 4,
 "nbformat_minor": 2
}
